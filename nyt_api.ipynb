{
 "cells": [
  {
   "cell_type": "markdown",
   "id": "60214551",
   "metadata": {},
   "source": [
    "# NYT API\n",
    "To use the New York Times API, register for an [API key here](https://developer.nytimes.com/).\n",
    "\n",
    "For more detailed explanation on using the API, see this resource:\n",
    "https://nicksubic.medium.com/a-guide-to-querying-the-new-york-times-api-with-python-b621556236f8\n"
   ]
  },
  {
   "cell_type": "code",
   "execution_count": 1,
   "id": "67ea53ce",
   "metadata": {},
   "outputs": [],
   "source": [
    "import requests\n",
    "from time import sleep\n",
    "from secrets import nytAPIkey # either add the secret key variable to your secrets.py file \n",
    "                              # or save it as environmental variable.\n"
   ]
  },
  {
   "cell_type": "markdown",
   "id": "cbb07b0b",
   "metadata": {},
   "source": [
    "## our parameters"
   ]
  },
  {
   "cell_type": "code",
   "execution_count": 2,
   "id": "fb6c5bbb",
   "metadata": {},
   "outputs": [],
   "source": [
    "# key\n",
    "key = nytAPIkey\n",
    "\n",
    "# query\n",
    "query = 'migrant'\n",
    "\n",
    "# base URL\n",
    "base_url = f'https://api.nytimes.com/svc/search/v2/articlesearch.json?&q={query}&api-key={key}'"
   ]
  },
  {
   "cell_type": "code",
   "execution_count": 3,
   "id": "c945b54f",
   "metadata": {},
   "outputs": [],
   "source": [
    "response = requests.get(base_url)"
   ]
  },
  {
   "cell_type": "code",
   "execution_count": 4,
   "id": "cc491e4d",
   "metadata": {},
   "outputs": [
    {
     "data": {
      "text/plain": [
       "<Response [200]>"
      ]
     },
     "execution_count": 4,
     "metadata": {},
     "output_type": "execute_result"
    }
   ],
   "source": [
    "response"
   ]
  },
  {
   "cell_type": "code",
   "execution_count": 5,
   "id": "33029fc4",
   "metadata": {},
   "outputs": [
    {
     "data": {
      "text/plain": [
       "['__attrs__',\n",
       " '__bool__',\n",
       " '__class__',\n",
       " '__delattr__',\n",
       " '__dict__',\n",
       " '__dir__',\n",
       " '__doc__',\n",
       " '__enter__',\n",
       " '__eq__',\n",
       " '__exit__',\n",
       " '__format__',\n",
       " '__ge__',\n",
       " '__getattribute__',\n",
       " '__getstate__',\n",
       " '__gt__',\n",
       " '__hash__',\n",
       " '__init__',\n",
       " '__init_subclass__',\n",
       " '__iter__',\n",
       " '__le__',\n",
       " '__lt__',\n",
       " '__module__',\n",
       " '__ne__',\n",
       " '__new__',\n",
       " '__nonzero__',\n",
       " '__reduce__',\n",
       " '__reduce_ex__',\n",
       " '__repr__',\n",
       " '__setattr__',\n",
       " '__setstate__',\n",
       " '__sizeof__',\n",
       " '__str__',\n",
       " '__subclasshook__',\n",
       " '__weakref__',\n",
       " '_content',\n",
       " '_content_consumed',\n",
       " '_next',\n",
       " 'apparent_encoding',\n",
       " 'close',\n",
       " 'connection',\n",
       " 'content',\n",
       " 'cookies',\n",
       " 'elapsed',\n",
       " 'encoding',\n",
       " 'headers',\n",
       " 'history',\n",
       " 'is_permanent_redirect',\n",
       " 'is_redirect',\n",
       " 'iter_content',\n",
       " 'iter_lines',\n",
       " 'json',\n",
       " 'links',\n",
       " 'next',\n",
       " 'ok',\n",
       " 'raise_for_status',\n",
       " 'raw',\n",
       " 'reason',\n",
       " 'request',\n",
       " 'status_code',\n",
       " 'text',\n",
       " 'url']"
      ]
     },
     "execution_count": 5,
     "metadata": {},
     "output_type": "execute_result"
    }
   ],
   "source": [
    "dir(response)"
   ]
  },
  {
   "cell_type": "code",
   "execution_count": 6,
   "id": "734d5e8e",
   "metadata": {},
   "outputs": [],
   "source": [
    "parsed = response.json()"
   ]
  },
  {
   "cell_type": "code",
   "execution_count": 7,
   "id": "71c184d7",
   "metadata": {},
   "outputs": [
    {
     "data": {
      "text/plain": [
       "dict_keys(['status', 'copyright', 'response'])"
      ]
     },
     "execution_count": 7,
     "metadata": {},
     "output_type": "execute_result"
    }
   ],
   "source": [
    "parsed.keys()"
   ]
  },
  {
   "cell_type": "code",
   "execution_count": 9,
   "id": "a6f41c16",
   "metadata": {},
   "outputs": [
    {
     "data": {
      "text/plain": [
       "dict_keys(['docs', 'meta'])"
      ]
     },
     "execution_count": 9,
     "metadata": {},
     "output_type": "execute_result"
    }
   ],
   "source": [
    "parsed['response'].keys()"
   ]
  },
  {
   "cell_type": "code",
   "execution_count": 10,
   "id": "74031afd",
   "metadata": {},
   "outputs": [
    {
     "data": {
      "text/plain": [
       "{'hits': 30812, 'offset': 0, 'time': 79}"
      ]
     },
     "execution_count": 10,
     "metadata": {},
     "output_type": "execute_result"
    }
   ],
   "source": [
    "parsed['response']['meta']"
   ]
  },
  {
   "cell_type": "code",
   "execution_count": 11,
   "id": "9c1c0f04",
   "metadata": {},
   "outputs": [],
   "source": [
    "articles = parsed['response']['docs']"
   ]
  },
  {
   "cell_type": "code",
   "execution_count": 13,
   "id": "aed3ebb3",
   "metadata": {},
   "outputs": [
    {
     "data": {
      "text/plain": [
       "list"
      ]
     },
     "execution_count": 13,
     "metadata": {},
     "output_type": "execute_result"
    }
   ],
   "source": [
    "type(articles)"
   ]
  },
  {
   "cell_type": "code",
   "execution_count": 14,
   "id": "cb2dc98d",
   "metadata": {},
   "outputs": [
    {
     "data": {
      "text/plain": [
       "dict_keys(['abstract', 'web_url', 'snippet', 'lead_paragraph', 'print_section', 'print_page', 'source', 'multimedia', 'headline', 'keywords', 'pub_date', 'document_type', 'news_desk', 'section_name', 'byline', 'type_of_material', '_id', 'word_count', 'uri'])"
      ]
     },
     "execution_count": 14,
     "metadata": {},
     "output_type": "execute_result"
    }
   ],
   "source": [
    "articles[0].keys()"
   ]
  },
  {
   "cell_type": "code",
   "execution_count": 15,
   "id": "e22a9ed7",
   "metadata": {},
   "outputs": [
    {
     "data": {
      "text/plain": [
       "10"
      ]
     },
     "execution_count": 15,
     "metadata": {},
     "output_type": "execute_result"
    }
   ],
   "source": [
    "len(articles)"
   ]
  },
  {
   "cell_type": "code",
   "execution_count": 16,
   "id": "08a07095",
   "metadata": {},
   "outputs": [],
   "source": [
    "results = []\n",
    "for i in range(0, 5):\n",
    "    url = f'https://api.nytimes.com/svc/search/v2/articlesearch.json?q=homelessness&page={i}&api-key={nytAPIkey}'\n",
    "    response = requests.get(url)\n",
    "    parsed = response.json()\n",
    "    articles = parsed['response']['docs']\n",
    "    results.append(articles)\n",
    "    sleep(6) # sleep at least 6 seconds not to overload the servers"
   ]
  },
  {
   "cell_type": "code",
   "execution_count": 17,
   "id": "ab2007d9",
   "metadata": {},
   "outputs": [
    {
     "data": {
      "text/plain": [
       "list"
      ]
     },
     "execution_count": 17,
     "metadata": {},
     "output_type": "execute_result"
    }
   ],
   "source": [
    "type(results)"
   ]
  },
  {
   "cell_type": "code",
   "execution_count": 18,
   "id": "4cb6decd",
   "metadata": {},
   "outputs": [
    {
     "data": {
      "text/plain": [
       "5"
      ]
     },
     "execution_count": 18,
     "metadata": {},
     "output_type": "execute_result"
    }
   ],
   "source": [
    "len(results)"
   ]
  },
  {
   "cell_type": "code",
   "execution_count": 19,
   "id": "d2b94798",
   "metadata": {},
   "outputs": [
    {
     "data": {
      "text/plain": [
       "dict"
      ]
     },
     "execution_count": 19,
     "metadata": {},
     "output_type": "execute_result"
    }
   ],
   "source": [
    "type(results[0][0])"
   ]
  },
  {
   "cell_type": "code",
   "execution_count": 20,
   "id": "3263c0a4",
   "metadata": {},
   "outputs": [],
   "source": [
    "article = results[0][0]"
   ]
  },
  {
   "cell_type": "code",
   "execution_count": 21,
   "id": "8b10e9a0",
   "metadata": {},
   "outputs": [
    {
     "data": {
      "text/plain": [
       "dict_keys(['abstract', 'web_url', 'snippet', 'lead_paragraph', 'print_section', 'print_page', 'source', 'multimedia', 'headline', 'keywords', 'pub_date', 'document_type', 'news_desk', 'section_name', 'byline', 'type_of_material', '_id', 'word_count', 'uri'])"
      ]
     },
     "execution_count": 21,
     "metadata": {},
     "output_type": "execute_result"
    }
   ],
   "source": [
    "article.keys()"
   ]
  },
  {
   "cell_type": "code",
   "execution_count": null,
   "id": "861a42bd",
   "metadata": {},
   "outputs": [],
   "source": [
    "results = []\n",
    "for i in range(0, 5):\n",
    "    url = f'https://api.nytimes.com/svc/search/v2/articlesearch.json?q={query}&page={i}&api-key={key}'\n",
    "    response = requests.get(url)\n",
    "    parsed = response.json()\n",
    "    articles = parsed['response']['docs']\n",
    "    results.append(articles)\n",
    "    sleep(15) # sleep at least 6 seconds not to overload the servers"
   ]
  },
  {
   "cell_type": "markdown",
   "id": "b8a9361b",
   "metadata": {},
   "source": [
    "### individual challenge: how to get just abstract of the first item in this new object?"
   ]
  },
  {
   "cell_type": "code",
   "execution_count": null,
   "id": "c0611c0a",
   "metadata": {},
   "outputs": [],
   "source": [
    "type(results)"
   ]
  },
  {
   "cell_type": "code",
   "execution_count": null,
   "id": "ceb784f7",
   "metadata": {},
   "outputs": [],
   "source": [
    "type(results[0])"
   ]
  },
  {
   "cell_type": "code",
   "execution_count": null,
   "id": "f4688687",
   "metadata": {},
   "outputs": [],
   "source": [
    "# we have a dict within a list within a list\n",
    "type(results[0][0])"
   ]
  },
  {
   "cell_type": "code",
   "execution_count": null,
   "id": "f4ab5601",
   "metadata": {},
   "outputs": [],
   "source": [
    "results[0][0].keys()"
   ]
  },
  {
   "cell_type": "code",
   "execution_count": null,
   "id": "742512fa",
   "metadata": {},
   "outputs": [],
   "source": [
    "results[0][0]['abstract']"
   ]
  },
  {
   "cell_type": "code",
   "execution_count": 22,
   "id": "f436116c",
   "metadata": {},
   "outputs": [
    {
     "name": "stdout",
     "output_type": "stream",
     "text": [
      "A majority of the justices appeared skeptical of courts wading into the thorny policy questions around when local governments can punish people for sleeping and camping outdoors.\n",
      "A group of homeless plaintiffs argue that local laws aimed at banning sleeping outside violated their constitutional rights. The city claims that’s not what the Eighth Amendment means.\n",
      "As voters’ frustration has grown with sprawling tent encampments in public spaces, Democratic and Republican leaders alike have called for greater authority to ban such camping.\n",
      "Trevon Murphy, who a family member said had a history of mental health problems, killed one man and injured two others.\n",
      "A Democrat and a Republican from New York will introduce the “Michelle Go Act,” named after a woman who was killed when a mentally ill homeless man pushed her in front of a subway train.\n",
      "The evictions are part of an aggressive strategy to force some adult migrants out of city shelters after 30 or 60 days.\n",
      "He was ensnared in Ithaca’s homeless encampment. Then, in a blur of violence, he was gone.\n",
      "New York City’s housing crisis is getting worse. But the Adams administration’s executive budget is expected to result in fewer than usual affordable homes.\n",
      "In “Morning After the Revolution,” an attack on progressive activism, the journalist Nellie Bowles relies more on sarcasm than argument or ideas.\n",
      "She had set up flooring, a computer and a coffee maker. The unidentified woman had been living in the store in Midland, Mich., for about a year, the authorities said.\n",
      "Medical workers and police officers are removing people suffering from psychiatric distress. The most troubled are forced to the hospital.\n",
      "Therapists from the Brooklyn Conservatory of Music have found that teaching homeless children to make beats and write songs is a way to heal trauma.\n",
      "A provision in an election bill would bar homeless voters from receiving mail-in ballots and election information at shelters or other temporary addresses.\n",
      "The “Yes in God’s Backyard” movement to build affordable housing on faith organizations’ properties is gaining steam in California and elsewhere.\n",
      "Plus, a swimming scandal.\n",
      "A lawsuit by a group of homeless residents of a small Oregon town could reshape the way cities across the country deal with homelessness.\n",
      "Can cities make it illegal to live on the streets?\n",
      "A ban on camping in public places faces a Supreme Court test.\n",
      "Students at the university staged “Mayday,” a show that satirizes the administration, especially the beleaguered president, Nemat Shafik.\n",
      "Hundreds of thousands of people are homeless. This filmmaker wants you to see them.\n",
      "Hundreds of thousands of people are homeless. This filmmaker wants you to see them.\n",
      "Mental illness isn’t a crime, and jail isn’t the answer for those experiencing it.\n",
      "In the shadow of opulent mansions, workmen spend their winters living in the woods. Julio Florencio Teo Gomez was one of them.\n",
      "Janna Volz’s father, Jason Volz, was largely absent from her life as he fought addiction. They were rebuilding their relationship when he was pushed to his death on the subway tracks.\n",
      "More than a year into her term, Mayor Karen Bass has cleared encampments and moved thousands of people into motels. What happens next is unclear.\n",
      "Carlton McPherson, who was charged in the fatal shoving of a stranger in the subway, had stayed at shelters designed to help those with mental illness.\n",
      "Carlton McPherson had been placed by New York City in a specialized homeless shelter for people with serious mental illness. It was not enough.\n",
      "The referendum, backed by progressives but criticized by the real estate industry, called for raising transfer taxes on properties that sell for more than $1 million.\n",
      "The measure known as Proposition 1, which includes $6.38 billion for treatment and housing, was a top priority for Gov. Gavin Newsom to reduce homelessness in the state.\n",
      "Three million people a day ride trains in a system with more than 400 stations and 6,000 train cars. Officials hope pouring in more resources and officers can keep them safe.\n",
      "The man charged with shoving a man from a subway platform had a violent history, according to officials. The man who died was recovering from his own troubled past, his family said.\n",
      "Gov. Gavin Newsom billed Proposition 1 as crucial to solving California’s homelessness crisis. Voters, who see the issue as a top concern, have split almost evenly on the proposal.\n",
      "Proposed changes to the real estate transfer tax will test the strength of Chicago’s progressive movement as the city deals with an influx of migrants.\n",
      "To confront the crises of homelessness and mental illness, California has passed new laws that critics say could violate the civil liberties of those suffering on the streets. Some families welcome the new measures.\n",
      "A proposal to raise the transfer tax on sales of high-value properties was trailing. Two Democrats were locked in a close Cook County prosecutor primary.\n",
      "A proposed tax change to fund homelessness programs in Chicago and the Democratic primary for Cook County’s chief prosecutor pit moderates against progressives.\n",
      "The city has negotiated a deal that will limit single migrants to 30-day shelter stays. Officials hope it will ease the crunch without increasing street homelessness.\n",
      "A legal agreement scales back the longstanding requirement that the city provide shelter to homeless people who seek it. Families will not be affected.\n",
      "Eighteen people, including nine New York City public employees, were charged with joining a conspiracy that made ghost guns and defrauded a state Covid relief program.\n",
      "Proposition 1 was expected to be widely approved, but the vote is close. Here’s what the measure is and what’s at stake.\n",
      "Why our definitions of what counts as “unhoused” aren’t adequate.\n",
      "Some homeless shelters now offer resources so that people can squeeze in with family members. It’s an acknowledgment that entering the shelter system can lead to a downward spiral.\n",
      "He struggled with schizophrenia, but he drew praise for the intricate diagrams he drew on scraps of paper while living in New York City homeless shelters.\n",
      "A program designed to resettle 1,250 families across New York State has moved only about 170 households, barely easing the burden on the city’s shelter system.\n",
      "The F.D.A. recently approved the first therapy for patients in danger of losing their toes, fingers and other exposed parts of the body.\n",
      "Voices from the tents, shelters, cars, motels and couches of America.\n",
      "The City Council is expected to join the Legal Aid Society in a lawsuit to force Eric Adams to implement laws aimed at reducing homelessness.\n",
      "Fleeing political persecution, a family hoped the United States would take them in. After the city evicted them, they questioned whether they should have come.\n",
      "Progress’s challenge: Our problems shape-shift in response to our solutions, which then become problems themselves.\n",
      "An audit found that the city doesn’t really know if a program to treat severely mentally ill people is working. Many don’t take their medications.\n"
     ]
    }
   ],
   "source": [
    "# we need to do nested loops\n",
    "\n",
    "for result in results:\n",
    "    for article in result:\n",
    "        print(article['abstract'])"
   ]
  },
  {
   "cell_type": "markdown",
   "id": "39261bbd",
   "metadata": {},
   "source": [
    "### group challenge: make a list of abstracts"
   ]
  },
  {
   "cell_type": "code",
   "execution_count": 25,
   "id": "f54590db",
   "metadata": {},
   "outputs": [],
   "source": [
    "abstracts = []\n",
    "for result in results:\n",
    "    for article in result:\n",
    "        abstracts.append(article['abstract'])"
   ]
  },
  {
   "cell_type": "code",
   "execution_count": 26,
   "id": "dce977ca",
   "metadata": {},
   "outputs": [
    {
     "data": {
      "text/plain": [
       "50"
      ]
     },
     "execution_count": 26,
     "metadata": {},
     "output_type": "execute_result"
    }
   ],
   "source": [
    "len(abstracts)"
   ]
  },
  {
   "cell_type": "code",
   "execution_count": 27,
   "id": "42e4fcf6",
   "metadata": {},
   "outputs": [
    {
     "data": {
      "text/plain": [
       "['A majority of the justices appeared skeptical of courts wading into the thorny policy questions around when local governments can punish people for sleeping and camping outdoors.',\n",
       " 'A group of homeless plaintiffs argue that local laws aimed at banning sleeping outside violated their constitutional rights. The city claims that’s not what the Eighth Amendment means.',\n",
       " 'As voters’ frustration has grown with sprawling tent encampments in public spaces, Democratic and Republican leaders alike have called for greater authority to ban such camping.',\n",
       " 'Trevon Murphy, who a family member said had a history of mental health problems, killed one man and injured two others.',\n",
       " 'A Democrat and a Republican from New York will introduce the “Michelle Go Act,” named after a woman who was killed when a mentally ill homeless man pushed her in front of a subway train.',\n",
       " 'The evictions are part of an aggressive strategy to force some adult migrants out of city shelters after 30 or 60 days.',\n",
       " 'He was ensnared in Ithaca’s homeless encampment. Then, in a blur of violence, he was gone.',\n",
       " 'New York City’s housing crisis is getting worse. But the Adams administration’s executive budget is expected to result in fewer than usual affordable homes.',\n",
       " 'In “Morning After the Revolution,” an attack on progressive activism, the journalist Nellie Bowles relies more on sarcasm than argument or ideas.',\n",
       " 'She had set up flooring, a computer and a coffee maker. The unidentified woman had been living in the store in Midland, Mich., for about a year, the authorities said.']"
      ]
     },
     "execution_count": 27,
     "metadata": {},
     "output_type": "execute_result"
    }
   ],
   "source": [
    "abstracts[:10]"
   ]
  },
  {
   "cell_type": "markdown",
   "id": "d26fef39",
   "metadata": {},
   "source": [
    "### individual practice: explore other keys in our data & share"
   ]
  },
  {
   "cell_type": "markdown",
   "id": "e7c0e1bf",
   "metadata": {},
   "source": [
    "## text analysis with spaCy"
   ]
  },
  {
   "cell_type": "code",
   "execution_count": 28,
   "id": "e412874c",
   "metadata": {},
   "outputs": [],
   "source": [
    "import spacy\n",
    "nlp = spacy.load('en_core_web_sm')"
   ]
  },
  {
   "cell_type": "code",
   "execution_count": 29,
   "id": "e62a23e4",
   "metadata": {},
   "outputs": [],
   "source": [
    "docs = list(nlp.pipe(abstracts))"
   ]
  },
  {
   "cell_type": "code",
   "execution_count": 30,
   "id": "acc3960b",
   "metadata": {},
   "outputs": [
    {
     "name": "stdout",
     "output_type": "stream",
     "text": [
      "A majority of the justices appeared skeptical of courts wading into the thorny policy questions around when local governments can punish people for sleeping and camping outdoors.\n",
      "A group of homeless plaintiffs argue that local laws aimed at banning sleeping outside violated their constitutional rights. The city claims that’s not what the Eighth Amendment means.\n",
      "As voters’ frustration has grown with sprawling tent encampments in public spaces, Democratic and Republican leaders alike have called for greater authority to ban such camping.\n",
      "Trevon Murphy, who a family member said had a history of mental health problems, killed one man and injured two others.\n",
      "A Democrat and a Republican from New York will introduce the “Michelle Go Act,” named after a woman who was killed when a mentally ill homeless man pushed her in front of a subway train.\n",
      "The evictions are part of an aggressive strategy to force some adult migrants out of city shelters after 30 or 60 days.\n",
      "He was ensnared in Ithaca’s homeless encampment. Then, in a blur of violence, he was gone.\n",
      "New York City’s housing crisis is getting worse. But the Adams administration’s executive budget is expected to result in fewer than usual affordable homes.\n",
      "In “Morning After the Revolution,” an attack on progressive activism, the journalist Nellie Bowles relies more on sarcasm than argument or ideas.\n",
      "She had set up flooring, a computer and a coffee maker. The unidentified woman had been living in the store in Midland, Mich., for about a year, the authorities said.\n",
      "Medical workers and police officers are removing people suffering from psychiatric distress. The most troubled are forced to the hospital.\n",
      "Therapists from the Brooklyn Conservatory of Music have found that teaching homeless children to make beats and write songs is a way to heal trauma.\n",
      "A provision in an election bill would bar homeless voters from receiving mail-in ballots and election information at shelters or other temporary addresses.\n",
      "The “Yes in God’s Backyard” movement to build affordable housing on faith organizations’ properties is gaining steam in California and elsewhere.\n",
      "Plus, a swimming scandal.\n",
      "A lawsuit by a group of homeless residents of a small Oregon town could reshape the way cities across the country deal with homelessness.\n",
      "Can cities make it illegal to live on the streets?\n",
      "A ban on camping in public places faces a Supreme Court test.\n",
      "Students at the university staged “Mayday,” a show that satirizes the administration, especially the beleaguered president, Nemat Shafik.\n",
      "Hundreds of thousands of people are homeless. This filmmaker wants you to see them.\n",
      "Hundreds of thousands of people are homeless. This filmmaker wants you to see them.\n",
      "Mental illness isn’t a crime, and jail isn’t the answer for those experiencing it.\n",
      "In the shadow of opulent mansions, workmen spend their winters living in the woods. Julio Florencio Teo Gomez was one of them.\n",
      "Janna Volz’s father, Jason Volz, was largely absent from her life as he fought addiction. They were rebuilding their relationship when he was pushed to his death on the subway tracks.\n",
      "More than a year into her term, Mayor Karen Bass has cleared encampments and moved thousands of people into motels. What happens next is unclear.\n",
      "Carlton McPherson, who was charged in the fatal shoving of a stranger in the subway, had stayed at shelters designed to help those with mental illness.\n",
      "Carlton McPherson had been placed by New York City in a specialized homeless shelter for people with serious mental illness. It was not enough.\n",
      "The referendum, backed by progressives but criticized by the real estate industry, called for raising transfer taxes on properties that sell for more than $1 million.\n",
      "The measure known as Proposition 1, which includes $6.38 billion for treatment and housing, was a top priority for Gov. Gavin Newsom to reduce homelessness in the state.\n",
      "Three million people a day ride trains in a system with more than 400 stations and 6,000 train cars. Officials hope pouring in more resources and officers can keep them safe.\n",
      "The man charged with shoving a man from a subway platform had a violent history, according to officials. The man who died was recovering from his own troubled past, his family said.\n",
      "Gov. Gavin Newsom billed Proposition 1 as crucial to solving California’s homelessness crisis. Voters, who see the issue as a top concern, have split almost evenly on the proposal.\n",
      "Proposed changes to the real estate transfer tax will test the strength of Chicago’s progressive movement as the city deals with an influx of migrants.\n",
      "To confront the crises of homelessness and mental illness, California has passed new laws that critics say could violate the civil liberties of those suffering on the streets. Some families welcome the new measures.\n",
      "A proposal to raise the transfer tax on sales of high-value properties was trailing. Two Democrats were locked in a close Cook County prosecutor primary.\n",
      "A proposed tax change to fund homelessness programs in Chicago and the Democratic primary for Cook County’s chief prosecutor pit moderates against progressives.\n",
      "The city has negotiated a deal that will limit single migrants to 30-day shelter stays. Officials hope it will ease the crunch without increasing street homelessness.\n",
      "A legal agreement scales back the longstanding requirement that the city provide shelter to homeless people who seek it. Families will not be affected.\n",
      "Eighteen people, including nine New York City public employees, were charged with joining a conspiracy that made ghost guns and defrauded a state Covid relief program.\n",
      "Proposition 1 was expected to be widely approved, but the vote is close. Here’s what the measure is and what’s at stake.\n",
      "Why our definitions of what counts as “unhoused” aren’t adequate.\n",
      "Some homeless shelters now offer resources so that people can squeeze in with family members. It’s an acknowledgment that entering the shelter system can lead to a downward spiral.\n",
      "He struggled with schizophrenia, but he drew praise for the intricate diagrams he drew on scraps of paper while living in New York City homeless shelters.\n",
      "A program designed to resettle 1,250 families across New York State has moved only about 170 households, barely easing the burden on the city’s shelter system.\n",
      "The F.D.A. recently approved the first therapy for patients in danger of losing their toes, fingers and other exposed parts of the body.\n",
      "Voices from the tents, shelters, cars, motels and couches of America.\n",
      "The City Council is expected to join the Legal Aid Society in a lawsuit to force Eric Adams to implement laws aimed at reducing homelessness.\n",
      "Fleeing political persecution, a family hoped the United States would take them in. After the city evicted them, they questioned whether they should have come.\n",
      "Progress’s challenge: Our problems shape-shift in response to our solutions, which then become problems themselves.\n",
      "An audit found that the city doesn’t really know if a program to treat severely mentally ill people is working. Many don’t take their medications.\n"
     ]
    }
   ],
   "source": [
    "for doc in docs:\n",
    "    print(doc)"
   ]
  },
  {
   "cell_type": "markdown",
   "id": "dc38de36",
   "metadata": {},
   "source": [
    "## tokens"
   ]
  },
  {
   "cell_type": "code",
   "execution_count": 31,
   "id": "a1e653de",
   "metadata": {},
   "outputs": [
    {
     "name": "stdout",
     "output_type": "stream",
     "text": [
      "A\n",
      "majority\n",
      "of\n",
      "the\n",
      "justices\n",
      "appeared\n",
      "skeptical\n",
      "of\n",
      "courts\n",
      "wading\n",
      "into\n",
      "the\n",
      "thorny\n",
      "policy\n",
      "questions\n",
      "around\n",
      "when\n",
      "local\n",
      "governments\n",
      "can\n",
      "punish\n",
      "people\n",
      "for\n",
      "sleeping\n",
      "and\n",
      "camping\n",
      "outdoors\n",
      ".\n"
     ]
    }
   ],
   "source": [
    "for token in docs[0]:\n",
    "    print(token) "
   ]
  },
  {
   "cell_type": "code",
   "execution_count": 32,
   "id": "03f00423",
   "metadata": {},
   "outputs": [
    {
     "data": {
      "text/plain": [
       "spacy.tokens.token.Token"
      ]
     },
     "execution_count": 32,
     "metadata": {},
     "output_type": "execute_result"
    }
   ],
   "source": [
    "type(token)"
   ]
  },
  {
   "cell_type": "code",
   "execution_count": 33,
   "id": "d6af4af2",
   "metadata": {},
   "outputs": [
    {
     "data": {
      "text/plain": [
       "['_',\n",
       " '__bytes__',\n",
       " '__class__',\n",
       " '__delattr__',\n",
       " '__dir__',\n",
       " '__doc__',\n",
       " '__eq__',\n",
       " '__format__',\n",
       " '__ge__',\n",
       " '__getattribute__',\n",
       " '__getstate__',\n",
       " '__gt__',\n",
       " '__hash__',\n",
       " '__init__',\n",
       " '__init_subclass__',\n",
       " '__le__',\n",
       " '__len__',\n",
       " '__lt__',\n",
       " '__ne__',\n",
       " '__new__',\n",
       " '__pyx_vtable__',\n",
       " '__reduce__',\n",
       " '__reduce_ex__',\n",
       " '__repr__',\n",
       " '__setattr__',\n",
       " '__sizeof__',\n",
       " '__str__',\n",
       " '__subclasshook__',\n",
       " '__unicode__',\n",
       " 'ancestors',\n",
       " 'check_flag',\n",
       " 'children',\n",
       " 'cluster',\n",
       " 'conjuncts',\n",
       " 'dep',\n",
       " 'dep_',\n",
       " 'doc',\n",
       " 'ent_id',\n",
       " 'ent_id_',\n",
       " 'ent_iob',\n",
       " 'ent_iob_',\n",
       " 'ent_kb_id',\n",
       " 'ent_kb_id_',\n",
       " 'ent_type',\n",
       " 'ent_type_',\n",
       " 'get_extension',\n",
       " 'has_dep',\n",
       " 'has_extension',\n",
       " 'has_head',\n",
       " 'has_morph',\n",
       " 'has_vector',\n",
       " 'head',\n",
       " 'i',\n",
       " 'idx',\n",
       " 'iob_strings',\n",
       " 'is_alpha',\n",
       " 'is_ancestor',\n",
       " 'is_ascii',\n",
       " 'is_bracket',\n",
       " 'is_currency',\n",
       " 'is_digit',\n",
       " 'is_left_punct',\n",
       " 'is_lower',\n",
       " 'is_oov',\n",
       " 'is_punct',\n",
       " 'is_quote',\n",
       " 'is_right_punct',\n",
       " 'is_sent_end',\n",
       " 'is_sent_start',\n",
       " 'is_space',\n",
       " 'is_stop',\n",
       " 'is_title',\n",
       " 'is_upper',\n",
       " 'lang',\n",
       " 'lang_',\n",
       " 'left_edge',\n",
       " 'lefts',\n",
       " 'lemma',\n",
       " 'lemma_',\n",
       " 'lex',\n",
       " 'lex_id',\n",
       " 'like_email',\n",
       " 'like_num',\n",
       " 'like_url',\n",
       " 'lower',\n",
       " 'lower_',\n",
       " 'morph',\n",
       " 'n_lefts',\n",
       " 'n_rights',\n",
       " 'nbor',\n",
       " 'norm',\n",
       " 'norm_',\n",
       " 'orth',\n",
       " 'orth_',\n",
       " 'pos',\n",
       " 'pos_',\n",
       " 'prefix',\n",
       " 'prefix_',\n",
       " 'prob',\n",
       " 'rank',\n",
       " 'remove_extension',\n",
       " 'right_edge',\n",
       " 'rights',\n",
       " 'sent',\n",
       " 'sent_start',\n",
       " 'sentiment',\n",
       " 'set_extension',\n",
       " 'set_morph',\n",
       " 'shape',\n",
       " 'shape_',\n",
       " 'similarity',\n",
       " 'subtree',\n",
       " 'suffix',\n",
       " 'suffix_',\n",
       " 'tag',\n",
       " 'tag_',\n",
       " 'tensor',\n",
       " 'text',\n",
       " 'text_with_ws',\n",
       " 'vector',\n",
       " 'vector_norm',\n",
       " 'vocab',\n",
       " 'whitespace_']"
      ]
     },
     "execution_count": 33,
     "metadata": {},
     "output_type": "execute_result"
    }
   ],
   "source": [
    "# see all the methods for Token objects!\n",
    "dir(token)"
   ]
  },
  {
   "cell_type": "code",
   "execution_count": 34,
   "id": "d9e2a79d",
   "metadata": {},
   "outputs": [
    {
     "name": "stdout",
     "output_type": "stream",
     "text": [
      "A DET det\n",
      "majority NOUN nsubj\n",
      "of ADP prep\n",
      "the DET det\n",
      "justices NOUN pobj\n",
      "appeared VERB ROOT\n",
      "skeptical ADJ oprd\n",
      "of ADP prep\n",
      "courts NOUN pobj\n",
      "wading VERB acl\n",
      "into ADP prep\n",
      "the DET det\n",
      "thorny ADJ amod\n",
      "policy NOUN compound\n",
      "questions NOUN pobj\n",
      "around ADP prep\n",
      "when SCONJ advmod\n",
      "local ADJ amod\n",
      "governments NOUN nsubj\n",
      "can AUX aux\n",
      "punish VERB advcl\n",
      "people NOUN dobj\n",
      "for ADP prep\n",
      "sleeping VERB pobj\n",
      "and CCONJ cc\n",
      "camping NOUN compound\n",
      "outdoors ADV conj\n",
      ". PUNCT punct\n"
     ]
    }
   ],
   "source": [
    "for token in docs[0]:\n",
    "    print(token, token.pos_, token.dep_)    "
   ]
  },
  {
   "cell_type": "markdown",
   "id": "5767bae5",
   "metadata": {},
   "source": [
    "## NER"
   ]
  },
  {
   "cell_type": "code",
   "execution_count": 35,
   "id": "81cf7bd8",
   "metadata": {},
   "outputs": [
    {
     "data": {
      "text/plain": [
       "spacy.tokens.doc.Doc"
      ]
     },
     "execution_count": 35,
     "metadata": {},
     "output_type": "execute_result"
    }
   ],
   "source": [
    "# see docs (hah!) on Doc object on this page: https://spacy.io/api/doc\n",
    "\n",
    "type(doc)"
   ]
  },
  {
   "cell_type": "code",
   "execution_count": null,
   "id": "d076893a",
   "metadata": {},
   "outputs": [],
   "source": [
    "dir(doc)"
   ]
  },
  {
   "cell_type": "code",
   "execution_count": 36,
   "id": "406dcb94",
   "metadata": {},
   "outputs": [
    {
     "name": "stdout",
     "output_type": "stream",
     "text": [
      "the Eighth Amendment LAW\n",
      "Democratic NORP\n",
      "Republican NORP\n",
      "Trevon Murphy PERSON\n",
      "one CARDINAL\n",
      "two CARDINAL\n",
      "Democrat NORP\n",
      "Republican NORP\n",
      "New York GPE\n",
      "30 or 60 days DATE\n",
      "Ithaca GPE\n",
      "New York City’s GPE\n",
      "Morning After the Revolution WORK_OF_ART\n",
      "Nellie Bowles PERSON\n",
      "Midland GPE\n",
      "Mich. GPE\n",
      "about a year DATE\n",
      "the Brooklyn Conservatory of Music ORG\n",
      "California GPE\n",
      "Oregon GPE\n",
      "Supreme Court ORG\n",
      "Mayday WORK_OF_ART\n",
      "Nemat Shafik ORG\n",
      "Hundreds of thousands CARDINAL\n",
      "Hundreds of thousands CARDINAL\n",
      "winters DATE\n",
      "Julio Florencio Teo Gomez PERSON\n",
      "one CARDINAL\n",
      "Janna Volz’s PERSON\n",
      "Jason Volz PERSON\n",
      "More than a year DATE\n",
      "Karen Bass PERSON\n",
      "thousands CARDINAL\n",
      "Carlton McPherson PERSON\n",
      "Carlton McPherson PERSON\n",
      "New York City GPE\n",
      "more than $1 million MONEY\n",
      "Proposition 1 LAW\n",
      "$6.38 billion MONEY\n",
      "Gavin Newsom PERSON\n",
      "Three million CARDINAL\n",
      "more than 400 CARDINAL\n",
      "6,000 CARDINAL\n",
      "Gavin Newsom PERSON\n",
      "Proposition 1 LAW\n",
      "California GPE\n",
      "Chicago GPE\n",
      "California GPE\n",
      "Two CARDINAL\n",
      "Democrats NORP\n",
      "Cook County GPE\n",
      "Chicago GPE\n",
      "Democratic NORP\n",
      "Cook County’s GPE\n",
      "30-day DATE\n",
      "Eighteen CARDINAL\n",
      "nine CARDINAL\n",
      "New York City GPE\n",
      "Covid PERSON\n",
      "Proposition 1 LAW\n",
      "New York City GPE\n",
      "1,250 CARDINAL\n",
      "New York State GPE\n",
      "only about 170 CARDINAL\n",
      "F.D.A. GPE\n",
      "first ORDINAL\n",
      "America GPE\n",
      "The City Council ORG\n",
      "Eric Adams PERSON\n",
      "the United States GPE\n"
     ]
    }
   ],
   "source": [
    "for doc in docs:\n",
    "    for ent in doc.ents:\n",
    "        print(ent.text, ent.label_)"
   ]
  },
  {
   "cell_type": "markdown",
   "id": "99cb7604",
   "metadata": {},
   "source": [
    "## word frequencies"
   ]
  },
  {
   "cell_type": "code",
   "execution_count": 37,
   "id": "979ca94a",
   "metadata": {},
   "outputs": [
    {
     "name": "stdout",
     "output_type": "stream",
     "text": [
      "[('homeless', 12), ('people', 11), ('city', 8), ('homelessness', 7), ('New', 6), ('York', 6), ('shelters', 6), ('man', 5), ('City', 5), ('shelter', 5), ('family', 4), ('mental', 4), ('subway', 4), ('illness', 4), ('1', 4), ('camping', 3), ('laws', 3), ('public', 3), ('said', 3), ('problems', 3)]\n"
     ]
    }
   ],
   "source": [
    "from collections import Counter\n",
    "\n",
    "words = []\n",
    "for doc in docs:\n",
    "    for token in doc:\n",
    "        if not token.is_stop:\n",
    "            if not token.is_punct:\n",
    "                words.append(token.text)\n",
    "\n",
    "word_freq = Counter(words)\n",
    "common_words = word_freq.most_common(20)\n",
    "print(common_words)"
   ]
  },
  {
   "cell_type": "markdown",
   "id": "12b01890",
   "metadata": {},
   "source": [
    "## dependency "
   ]
  },
  {
   "cell_type": "code",
   "execution_count": 38,
   "id": "031f6fb7",
   "metadata": {},
   "outputs": [
    {
     "data": {
      "text/html": [
       "<span class=\"tex2jax_ignore\"><svg xmlns=\"http://www.w3.org/2000/svg\" xmlns:xlink=\"http://www.w3.org/1999/xlink\" xml:lang=\"en\" id=\"a1cfe585ce86400d9f35c04f0e490092-0\" class=\"displacy\" width=\"4775\" height=\"574.5\" direction=\"ltr\" style=\"max-width: none; height: 574.5px; color: #000000; background: #ffffff; font-family: Arial; direction: ltr\">\n",
       "<text class=\"displacy-token\" fill=\"currentColor\" text-anchor=\"middle\" y=\"484.5\">\n",
       "    <tspan class=\"displacy-word\" fill=\"currentColor\" x=\"50\">A</tspan>\n",
       "    <tspan class=\"displacy-tag\" dy=\"2em\" fill=\"currentColor\" x=\"50\">DET</tspan>\n",
       "</text>\n",
       "\n",
       "<text class=\"displacy-token\" fill=\"currentColor\" text-anchor=\"middle\" y=\"484.5\">\n",
       "    <tspan class=\"displacy-word\" fill=\"currentColor\" x=\"225\">majority</tspan>\n",
       "    <tspan class=\"displacy-tag\" dy=\"2em\" fill=\"currentColor\" x=\"225\">NOUN</tspan>\n",
       "</text>\n",
       "\n",
       "<text class=\"displacy-token\" fill=\"currentColor\" text-anchor=\"middle\" y=\"484.5\">\n",
       "    <tspan class=\"displacy-word\" fill=\"currentColor\" x=\"400\">of</tspan>\n",
       "    <tspan class=\"displacy-tag\" dy=\"2em\" fill=\"currentColor\" x=\"400\">ADP</tspan>\n",
       "</text>\n",
       "\n",
       "<text class=\"displacy-token\" fill=\"currentColor\" text-anchor=\"middle\" y=\"484.5\">\n",
       "    <tspan class=\"displacy-word\" fill=\"currentColor\" x=\"575\">the</tspan>\n",
       "    <tspan class=\"displacy-tag\" dy=\"2em\" fill=\"currentColor\" x=\"575\">DET</tspan>\n",
       "</text>\n",
       "\n",
       "<text class=\"displacy-token\" fill=\"currentColor\" text-anchor=\"middle\" y=\"484.5\">\n",
       "    <tspan class=\"displacy-word\" fill=\"currentColor\" x=\"750\">justices</tspan>\n",
       "    <tspan class=\"displacy-tag\" dy=\"2em\" fill=\"currentColor\" x=\"750\">NOUN</tspan>\n",
       "</text>\n",
       "\n",
       "<text class=\"displacy-token\" fill=\"currentColor\" text-anchor=\"middle\" y=\"484.5\">\n",
       "    <tspan class=\"displacy-word\" fill=\"currentColor\" x=\"925\">appeared</tspan>\n",
       "    <tspan class=\"displacy-tag\" dy=\"2em\" fill=\"currentColor\" x=\"925\">VERB</tspan>\n",
       "</text>\n",
       "\n",
       "<text class=\"displacy-token\" fill=\"currentColor\" text-anchor=\"middle\" y=\"484.5\">\n",
       "    <tspan class=\"displacy-word\" fill=\"currentColor\" x=\"1100\">skeptical</tspan>\n",
       "    <tspan class=\"displacy-tag\" dy=\"2em\" fill=\"currentColor\" x=\"1100\">ADJ</tspan>\n",
       "</text>\n",
       "\n",
       "<text class=\"displacy-token\" fill=\"currentColor\" text-anchor=\"middle\" y=\"484.5\">\n",
       "    <tspan class=\"displacy-word\" fill=\"currentColor\" x=\"1275\">of</tspan>\n",
       "    <tspan class=\"displacy-tag\" dy=\"2em\" fill=\"currentColor\" x=\"1275\">ADP</tspan>\n",
       "</text>\n",
       "\n",
       "<text class=\"displacy-token\" fill=\"currentColor\" text-anchor=\"middle\" y=\"484.5\">\n",
       "    <tspan class=\"displacy-word\" fill=\"currentColor\" x=\"1450\">courts</tspan>\n",
       "    <tspan class=\"displacy-tag\" dy=\"2em\" fill=\"currentColor\" x=\"1450\">NOUN</tspan>\n",
       "</text>\n",
       "\n",
       "<text class=\"displacy-token\" fill=\"currentColor\" text-anchor=\"middle\" y=\"484.5\">\n",
       "    <tspan class=\"displacy-word\" fill=\"currentColor\" x=\"1625\">wading</tspan>\n",
       "    <tspan class=\"displacy-tag\" dy=\"2em\" fill=\"currentColor\" x=\"1625\">VERB</tspan>\n",
       "</text>\n",
       "\n",
       "<text class=\"displacy-token\" fill=\"currentColor\" text-anchor=\"middle\" y=\"484.5\">\n",
       "    <tspan class=\"displacy-word\" fill=\"currentColor\" x=\"1800\">into</tspan>\n",
       "    <tspan class=\"displacy-tag\" dy=\"2em\" fill=\"currentColor\" x=\"1800\">ADP</tspan>\n",
       "</text>\n",
       "\n",
       "<text class=\"displacy-token\" fill=\"currentColor\" text-anchor=\"middle\" y=\"484.5\">\n",
       "    <tspan class=\"displacy-word\" fill=\"currentColor\" x=\"1975\">the</tspan>\n",
       "    <tspan class=\"displacy-tag\" dy=\"2em\" fill=\"currentColor\" x=\"1975\">DET</tspan>\n",
       "</text>\n",
       "\n",
       "<text class=\"displacy-token\" fill=\"currentColor\" text-anchor=\"middle\" y=\"484.5\">\n",
       "    <tspan class=\"displacy-word\" fill=\"currentColor\" x=\"2150\">thorny</tspan>\n",
       "    <tspan class=\"displacy-tag\" dy=\"2em\" fill=\"currentColor\" x=\"2150\">ADJ</tspan>\n",
       "</text>\n",
       "\n",
       "<text class=\"displacy-token\" fill=\"currentColor\" text-anchor=\"middle\" y=\"484.5\">\n",
       "    <tspan class=\"displacy-word\" fill=\"currentColor\" x=\"2325\">policy</tspan>\n",
       "    <tspan class=\"displacy-tag\" dy=\"2em\" fill=\"currentColor\" x=\"2325\">NOUN</tspan>\n",
       "</text>\n",
       "\n",
       "<text class=\"displacy-token\" fill=\"currentColor\" text-anchor=\"middle\" y=\"484.5\">\n",
       "    <tspan class=\"displacy-word\" fill=\"currentColor\" x=\"2500\">questions</tspan>\n",
       "    <tspan class=\"displacy-tag\" dy=\"2em\" fill=\"currentColor\" x=\"2500\">NOUN</tspan>\n",
       "</text>\n",
       "\n",
       "<text class=\"displacy-token\" fill=\"currentColor\" text-anchor=\"middle\" y=\"484.5\">\n",
       "    <tspan class=\"displacy-word\" fill=\"currentColor\" x=\"2675\">around</tspan>\n",
       "    <tspan class=\"displacy-tag\" dy=\"2em\" fill=\"currentColor\" x=\"2675\">ADP</tspan>\n",
       "</text>\n",
       "\n",
       "<text class=\"displacy-token\" fill=\"currentColor\" text-anchor=\"middle\" y=\"484.5\">\n",
       "    <tspan class=\"displacy-word\" fill=\"currentColor\" x=\"2850\">when</tspan>\n",
       "    <tspan class=\"displacy-tag\" dy=\"2em\" fill=\"currentColor\" x=\"2850\">SCONJ</tspan>\n",
       "</text>\n",
       "\n",
       "<text class=\"displacy-token\" fill=\"currentColor\" text-anchor=\"middle\" y=\"484.5\">\n",
       "    <tspan class=\"displacy-word\" fill=\"currentColor\" x=\"3025\">local</tspan>\n",
       "    <tspan class=\"displacy-tag\" dy=\"2em\" fill=\"currentColor\" x=\"3025\">ADJ</tspan>\n",
       "</text>\n",
       "\n",
       "<text class=\"displacy-token\" fill=\"currentColor\" text-anchor=\"middle\" y=\"484.5\">\n",
       "    <tspan class=\"displacy-word\" fill=\"currentColor\" x=\"3200\">governments</tspan>\n",
       "    <tspan class=\"displacy-tag\" dy=\"2em\" fill=\"currentColor\" x=\"3200\">NOUN</tspan>\n",
       "</text>\n",
       "\n",
       "<text class=\"displacy-token\" fill=\"currentColor\" text-anchor=\"middle\" y=\"484.5\">\n",
       "    <tspan class=\"displacy-word\" fill=\"currentColor\" x=\"3375\">can</tspan>\n",
       "    <tspan class=\"displacy-tag\" dy=\"2em\" fill=\"currentColor\" x=\"3375\">AUX</tspan>\n",
       "</text>\n",
       "\n",
       "<text class=\"displacy-token\" fill=\"currentColor\" text-anchor=\"middle\" y=\"484.5\">\n",
       "    <tspan class=\"displacy-word\" fill=\"currentColor\" x=\"3550\">punish</tspan>\n",
       "    <tspan class=\"displacy-tag\" dy=\"2em\" fill=\"currentColor\" x=\"3550\">VERB</tspan>\n",
       "</text>\n",
       "\n",
       "<text class=\"displacy-token\" fill=\"currentColor\" text-anchor=\"middle\" y=\"484.5\">\n",
       "    <tspan class=\"displacy-word\" fill=\"currentColor\" x=\"3725\">people</tspan>\n",
       "    <tspan class=\"displacy-tag\" dy=\"2em\" fill=\"currentColor\" x=\"3725\">NOUN</tspan>\n",
       "</text>\n",
       "\n",
       "<text class=\"displacy-token\" fill=\"currentColor\" text-anchor=\"middle\" y=\"484.5\">\n",
       "    <tspan class=\"displacy-word\" fill=\"currentColor\" x=\"3900\">for</tspan>\n",
       "    <tspan class=\"displacy-tag\" dy=\"2em\" fill=\"currentColor\" x=\"3900\">ADP</tspan>\n",
       "</text>\n",
       "\n",
       "<text class=\"displacy-token\" fill=\"currentColor\" text-anchor=\"middle\" y=\"484.5\">\n",
       "    <tspan class=\"displacy-word\" fill=\"currentColor\" x=\"4075\">sleeping</tspan>\n",
       "    <tspan class=\"displacy-tag\" dy=\"2em\" fill=\"currentColor\" x=\"4075\">VERB</tspan>\n",
       "</text>\n",
       "\n",
       "<text class=\"displacy-token\" fill=\"currentColor\" text-anchor=\"middle\" y=\"484.5\">\n",
       "    <tspan class=\"displacy-word\" fill=\"currentColor\" x=\"4250\">and</tspan>\n",
       "    <tspan class=\"displacy-tag\" dy=\"2em\" fill=\"currentColor\" x=\"4250\">CCONJ</tspan>\n",
       "</text>\n",
       "\n",
       "<text class=\"displacy-token\" fill=\"currentColor\" text-anchor=\"middle\" y=\"484.5\">\n",
       "    <tspan class=\"displacy-word\" fill=\"currentColor\" x=\"4425\">camping</tspan>\n",
       "    <tspan class=\"displacy-tag\" dy=\"2em\" fill=\"currentColor\" x=\"4425\">NOUN</tspan>\n",
       "</text>\n",
       "\n",
       "<text class=\"displacy-token\" fill=\"currentColor\" text-anchor=\"middle\" y=\"484.5\">\n",
       "    <tspan class=\"displacy-word\" fill=\"currentColor\" x=\"4600\">outdoors.</tspan>\n",
       "    <tspan class=\"displacy-tag\" dy=\"2em\" fill=\"currentColor\" x=\"4600\">ADV</tspan>\n",
       "</text>\n",
       "\n",
       "<g class=\"displacy-arrow\">\n",
       "    <path class=\"displacy-arc\" id=\"arrow-a1cfe585ce86400d9f35c04f0e490092-0-0\" stroke-width=\"2px\" d=\"M70,439.5 C70,352.0 205.0,352.0 205.0,439.5\" fill=\"none\" stroke=\"currentColor\"/>\n",
       "    <text dy=\"1.25em\" style=\"font-size: 0.8em; letter-spacing: 1px\">\n",
       "        <textPath xlink:href=\"#arrow-a1cfe585ce86400d9f35c04f0e490092-0-0\" class=\"displacy-label\" startOffset=\"50%\" side=\"left\" fill=\"currentColor\" text-anchor=\"middle\">det</textPath>\n",
       "    </text>\n",
       "    <path class=\"displacy-arrowhead\" d=\"M70,441.5 L62,429.5 78,429.5\" fill=\"currentColor\"/>\n",
       "</g>\n",
       "\n",
       "<g class=\"displacy-arrow\">\n",
       "    <path class=\"displacy-arc\" id=\"arrow-a1cfe585ce86400d9f35c04f0e490092-0-1\" stroke-width=\"2px\" d=\"M245,439.5 C245,177.0 915.0,177.0 915.0,439.5\" fill=\"none\" stroke=\"currentColor\"/>\n",
       "    <text dy=\"1.25em\" style=\"font-size: 0.8em; letter-spacing: 1px\">\n",
       "        <textPath xlink:href=\"#arrow-a1cfe585ce86400d9f35c04f0e490092-0-1\" class=\"displacy-label\" startOffset=\"50%\" side=\"left\" fill=\"currentColor\" text-anchor=\"middle\">nsubj</textPath>\n",
       "    </text>\n",
       "    <path class=\"displacy-arrowhead\" d=\"M245,441.5 L237,429.5 253,429.5\" fill=\"currentColor\"/>\n",
       "</g>\n",
       "\n",
       "<g class=\"displacy-arrow\">\n",
       "    <path class=\"displacy-arc\" id=\"arrow-a1cfe585ce86400d9f35c04f0e490092-0-2\" stroke-width=\"2px\" d=\"M245,439.5 C245,352.0 380.0,352.0 380.0,439.5\" fill=\"none\" stroke=\"currentColor\"/>\n",
       "    <text dy=\"1.25em\" style=\"font-size: 0.8em; letter-spacing: 1px\">\n",
       "        <textPath xlink:href=\"#arrow-a1cfe585ce86400d9f35c04f0e490092-0-2\" class=\"displacy-label\" startOffset=\"50%\" side=\"left\" fill=\"currentColor\" text-anchor=\"middle\">prep</textPath>\n",
       "    </text>\n",
       "    <path class=\"displacy-arrowhead\" d=\"M380.0,441.5 L388.0,429.5 372.0,429.5\" fill=\"currentColor\"/>\n",
       "</g>\n",
       "\n",
       "<g class=\"displacy-arrow\">\n",
       "    <path class=\"displacy-arc\" id=\"arrow-a1cfe585ce86400d9f35c04f0e490092-0-3\" stroke-width=\"2px\" d=\"M595,439.5 C595,352.0 730.0,352.0 730.0,439.5\" fill=\"none\" stroke=\"currentColor\"/>\n",
       "    <text dy=\"1.25em\" style=\"font-size: 0.8em; letter-spacing: 1px\">\n",
       "        <textPath xlink:href=\"#arrow-a1cfe585ce86400d9f35c04f0e490092-0-3\" class=\"displacy-label\" startOffset=\"50%\" side=\"left\" fill=\"currentColor\" text-anchor=\"middle\">det</textPath>\n",
       "    </text>\n",
       "    <path class=\"displacy-arrowhead\" d=\"M595,441.5 L587,429.5 603,429.5\" fill=\"currentColor\"/>\n",
       "</g>\n",
       "\n",
       "<g class=\"displacy-arrow\">\n",
       "    <path class=\"displacy-arc\" id=\"arrow-a1cfe585ce86400d9f35c04f0e490092-0-4\" stroke-width=\"2px\" d=\"M420,439.5 C420,264.5 735.0,264.5 735.0,439.5\" fill=\"none\" stroke=\"currentColor\"/>\n",
       "    <text dy=\"1.25em\" style=\"font-size: 0.8em; letter-spacing: 1px\">\n",
       "        <textPath xlink:href=\"#arrow-a1cfe585ce86400d9f35c04f0e490092-0-4\" class=\"displacy-label\" startOffset=\"50%\" side=\"left\" fill=\"currentColor\" text-anchor=\"middle\">pobj</textPath>\n",
       "    </text>\n",
       "    <path class=\"displacy-arrowhead\" d=\"M735.0,441.5 L743.0,429.5 727.0,429.5\" fill=\"currentColor\"/>\n",
       "</g>\n",
       "\n",
       "<g class=\"displacy-arrow\">\n",
       "    <path class=\"displacy-arc\" id=\"arrow-a1cfe585ce86400d9f35c04f0e490092-0-5\" stroke-width=\"2px\" d=\"M945,439.5 C945,352.0 1080.0,352.0 1080.0,439.5\" fill=\"none\" stroke=\"currentColor\"/>\n",
       "    <text dy=\"1.25em\" style=\"font-size: 0.8em; letter-spacing: 1px\">\n",
       "        <textPath xlink:href=\"#arrow-a1cfe585ce86400d9f35c04f0e490092-0-5\" class=\"displacy-label\" startOffset=\"50%\" side=\"left\" fill=\"currentColor\" text-anchor=\"middle\">oprd</textPath>\n",
       "    </text>\n",
       "    <path class=\"displacy-arrowhead\" d=\"M1080.0,441.5 L1088.0,429.5 1072.0,429.5\" fill=\"currentColor\"/>\n",
       "</g>\n",
       "\n",
       "<g class=\"displacy-arrow\">\n",
       "    <path class=\"displacy-arc\" id=\"arrow-a1cfe585ce86400d9f35c04f0e490092-0-6\" stroke-width=\"2px\" d=\"M1120,439.5 C1120,352.0 1255.0,352.0 1255.0,439.5\" fill=\"none\" stroke=\"currentColor\"/>\n",
       "    <text dy=\"1.25em\" style=\"font-size: 0.8em; letter-spacing: 1px\">\n",
       "        <textPath xlink:href=\"#arrow-a1cfe585ce86400d9f35c04f0e490092-0-6\" class=\"displacy-label\" startOffset=\"50%\" side=\"left\" fill=\"currentColor\" text-anchor=\"middle\">prep</textPath>\n",
       "    </text>\n",
       "    <path class=\"displacy-arrowhead\" d=\"M1255.0,441.5 L1263.0,429.5 1247.0,429.5\" fill=\"currentColor\"/>\n",
       "</g>\n",
       "\n",
       "<g class=\"displacy-arrow\">\n",
       "    <path class=\"displacy-arc\" id=\"arrow-a1cfe585ce86400d9f35c04f0e490092-0-7\" stroke-width=\"2px\" d=\"M1295,439.5 C1295,352.0 1430.0,352.0 1430.0,439.5\" fill=\"none\" stroke=\"currentColor\"/>\n",
       "    <text dy=\"1.25em\" style=\"font-size: 0.8em; letter-spacing: 1px\">\n",
       "        <textPath xlink:href=\"#arrow-a1cfe585ce86400d9f35c04f0e490092-0-7\" class=\"displacy-label\" startOffset=\"50%\" side=\"left\" fill=\"currentColor\" text-anchor=\"middle\">pobj</textPath>\n",
       "    </text>\n",
       "    <path class=\"displacy-arrowhead\" d=\"M1430.0,441.5 L1438.0,429.5 1422.0,429.5\" fill=\"currentColor\"/>\n",
       "</g>\n",
       "\n",
       "<g class=\"displacy-arrow\">\n",
       "    <path class=\"displacy-arc\" id=\"arrow-a1cfe585ce86400d9f35c04f0e490092-0-8\" stroke-width=\"2px\" d=\"M1470,439.5 C1470,352.0 1605.0,352.0 1605.0,439.5\" fill=\"none\" stroke=\"currentColor\"/>\n",
       "    <text dy=\"1.25em\" style=\"font-size: 0.8em; letter-spacing: 1px\">\n",
       "        <textPath xlink:href=\"#arrow-a1cfe585ce86400d9f35c04f0e490092-0-8\" class=\"displacy-label\" startOffset=\"50%\" side=\"left\" fill=\"currentColor\" text-anchor=\"middle\">acl</textPath>\n",
       "    </text>\n",
       "    <path class=\"displacy-arrowhead\" d=\"M1605.0,441.5 L1613.0,429.5 1597.0,429.5\" fill=\"currentColor\"/>\n",
       "</g>\n",
       "\n",
       "<g class=\"displacy-arrow\">\n",
       "    <path class=\"displacy-arc\" id=\"arrow-a1cfe585ce86400d9f35c04f0e490092-0-9\" stroke-width=\"2px\" d=\"M1645,439.5 C1645,352.0 1780.0,352.0 1780.0,439.5\" fill=\"none\" stroke=\"currentColor\"/>\n",
       "    <text dy=\"1.25em\" style=\"font-size: 0.8em; letter-spacing: 1px\">\n",
       "        <textPath xlink:href=\"#arrow-a1cfe585ce86400d9f35c04f0e490092-0-9\" class=\"displacy-label\" startOffset=\"50%\" side=\"left\" fill=\"currentColor\" text-anchor=\"middle\">prep</textPath>\n",
       "    </text>\n",
       "    <path class=\"displacy-arrowhead\" d=\"M1780.0,441.5 L1788.0,429.5 1772.0,429.5\" fill=\"currentColor\"/>\n",
       "</g>\n",
       "\n",
       "<g class=\"displacy-arrow\">\n",
       "    <path class=\"displacy-arc\" id=\"arrow-a1cfe585ce86400d9f35c04f0e490092-0-10\" stroke-width=\"2px\" d=\"M1995,439.5 C1995,177.0 2490.0,177.0 2490.0,439.5\" fill=\"none\" stroke=\"currentColor\"/>\n",
       "    <text dy=\"1.25em\" style=\"font-size: 0.8em; letter-spacing: 1px\">\n",
       "        <textPath xlink:href=\"#arrow-a1cfe585ce86400d9f35c04f0e490092-0-10\" class=\"displacy-label\" startOffset=\"50%\" side=\"left\" fill=\"currentColor\" text-anchor=\"middle\">det</textPath>\n",
       "    </text>\n",
       "    <path class=\"displacy-arrowhead\" d=\"M1995,441.5 L1987,429.5 2003,429.5\" fill=\"currentColor\"/>\n",
       "</g>\n",
       "\n",
       "<g class=\"displacy-arrow\">\n",
       "    <path class=\"displacy-arc\" id=\"arrow-a1cfe585ce86400d9f35c04f0e490092-0-11\" stroke-width=\"2px\" d=\"M2170,439.5 C2170,264.5 2485.0,264.5 2485.0,439.5\" fill=\"none\" stroke=\"currentColor\"/>\n",
       "    <text dy=\"1.25em\" style=\"font-size: 0.8em; letter-spacing: 1px\">\n",
       "        <textPath xlink:href=\"#arrow-a1cfe585ce86400d9f35c04f0e490092-0-11\" class=\"displacy-label\" startOffset=\"50%\" side=\"left\" fill=\"currentColor\" text-anchor=\"middle\">amod</textPath>\n",
       "    </text>\n",
       "    <path class=\"displacy-arrowhead\" d=\"M2170,441.5 L2162,429.5 2178,429.5\" fill=\"currentColor\"/>\n",
       "</g>\n",
       "\n",
       "<g class=\"displacy-arrow\">\n",
       "    <path class=\"displacy-arc\" id=\"arrow-a1cfe585ce86400d9f35c04f0e490092-0-12\" stroke-width=\"2px\" d=\"M2345,439.5 C2345,352.0 2480.0,352.0 2480.0,439.5\" fill=\"none\" stroke=\"currentColor\"/>\n",
       "    <text dy=\"1.25em\" style=\"font-size: 0.8em; letter-spacing: 1px\">\n",
       "        <textPath xlink:href=\"#arrow-a1cfe585ce86400d9f35c04f0e490092-0-12\" class=\"displacy-label\" startOffset=\"50%\" side=\"left\" fill=\"currentColor\" text-anchor=\"middle\">compound</textPath>\n",
       "    </text>\n",
       "    <path class=\"displacy-arrowhead\" d=\"M2345,441.5 L2337,429.5 2353,429.5\" fill=\"currentColor\"/>\n",
       "</g>\n",
       "\n",
       "<g class=\"displacy-arrow\">\n",
       "    <path class=\"displacy-arc\" id=\"arrow-a1cfe585ce86400d9f35c04f0e490092-0-13\" stroke-width=\"2px\" d=\"M1820,439.5 C1820,89.5 2495.0,89.5 2495.0,439.5\" fill=\"none\" stroke=\"currentColor\"/>\n",
       "    <text dy=\"1.25em\" style=\"font-size: 0.8em; letter-spacing: 1px\">\n",
       "        <textPath xlink:href=\"#arrow-a1cfe585ce86400d9f35c04f0e490092-0-13\" class=\"displacy-label\" startOffset=\"50%\" side=\"left\" fill=\"currentColor\" text-anchor=\"middle\">pobj</textPath>\n",
       "    </text>\n",
       "    <path class=\"displacy-arrowhead\" d=\"M2495.0,441.5 L2503.0,429.5 2487.0,429.5\" fill=\"currentColor\"/>\n",
       "</g>\n",
       "\n",
       "<g class=\"displacy-arrow\">\n",
       "    <path class=\"displacy-arc\" id=\"arrow-a1cfe585ce86400d9f35c04f0e490092-0-14\" stroke-width=\"2px\" d=\"M2520,439.5 C2520,352.0 2655.0,352.0 2655.0,439.5\" fill=\"none\" stroke=\"currentColor\"/>\n",
       "    <text dy=\"1.25em\" style=\"font-size: 0.8em; letter-spacing: 1px\">\n",
       "        <textPath xlink:href=\"#arrow-a1cfe585ce86400d9f35c04f0e490092-0-14\" class=\"displacy-label\" startOffset=\"50%\" side=\"left\" fill=\"currentColor\" text-anchor=\"middle\">prep</textPath>\n",
       "    </text>\n",
       "    <path class=\"displacy-arrowhead\" d=\"M2655.0,441.5 L2663.0,429.5 2647.0,429.5\" fill=\"currentColor\"/>\n",
       "</g>\n",
       "\n",
       "<g class=\"displacy-arrow\">\n",
       "    <path class=\"displacy-arc\" id=\"arrow-a1cfe585ce86400d9f35c04f0e490092-0-15\" stroke-width=\"2px\" d=\"M2870,439.5 C2870,177.0 3540.0,177.0 3540.0,439.5\" fill=\"none\" stroke=\"currentColor\"/>\n",
       "    <text dy=\"1.25em\" style=\"font-size: 0.8em; letter-spacing: 1px\">\n",
       "        <textPath xlink:href=\"#arrow-a1cfe585ce86400d9f35c04f0e490092-0-15\" class=\"displacy-label\" startOffset=\"50%\" side=\"left\" fill=\"currentColor\" text-anchor=\"middle\">advmod</textPath>\n",
       "    </text>\n",
       "    <path class=\"displacy-arrowhead\" d=\"M2870,441.5 L2862,429.5 2878,429.5\" fill=\"currentColor\"/>\n",
       "</g>\n",
       "\n",
       "<g class=\"displacy-arrow\">\n",
       "    <path class=\"displacy-arc\" id=\"arrow-a1cfe585ce86400d9f35c04f0e490092-0-16\" stroke-width=\"2px\" d=\"M3045,439.5 C3045,352.0 3180.0,352.0 3180.0,439.5\" fill=\"none\" stroke=\"currentColor\"/>\n",
       "    <text dy=\"1.25em\" style=\"font-size: 0.8em; letter-spacing: 1px\">\n",
       "        <textPath xlink:href=\"#arrow-a1cfe585ce86400d9f35c04f0e490092-0-16\" class=\"displacy-label\" startOffset=\"50%\" side=\"left\" fill=\"currentColor\" text-anchor=\"middle\">amod</textPath>\n",
       "    </text>\n",
       "    <path class=\"displacy-arrowhead\" d=\"M3045,441.5 L3037,429.5 3053,429.5\" fill=\"currentColor\"/>\n",
       "</g>\n",
       "\n",
       "<g class=\"displacy-arrow\">\n",
       "    <path class=\"displacy-arc\" id=\"arrow-a1cfe585ce86400d9f35c04f0e490092-0-17\" stroke-width=\"2px\" d=\"M3220,439.5 C3220,264.5 3535.0,264.5 3535.0,439.5\" fill=\"none\" stroke=\"currentColor\"/>\n",
       "    <text dy=\"1.25em\" style=\"font-size: 0.8em; letter-spacing: 1px\">\n",
       "        <textPath xlink:href=\"#arrow-a1cfe585ce86400d9f35c04f0e490092-0-17\" class=\"displacy-label\" startOffset=\"50%\" side=\"left\" fill=\"currentColor\" text-anchor=\"middle\">nsubj</textPath>\n",
       "    </text>\n",
       "    <path class=\"displacy-arrowhead\" d=\"M3220,441.5 L3212,429.5 3228,429.5\" fill=\"currentColor\"/>\n",
       "</g>\n",
       "\n",
       "<g class=\"displacy-arrow\">\n",
       "    <path class=\"displacy-arc\" id=\"arrow-a1cfe585ce86400d9f35c04f0e490092-0-18\" stroke-width=\"2px\" d=\"M3395,439.5 C3395,352.0 3530.0,352.0 3530.0,439.5\" fill=\"none\" stroke=\"currentColor\"/>\n",
       "    <text dy=\"1.25em\" style=\"font-size: 0.8em; letter-spacing: 1px\">\n",
       "        <textPath xlink:href=\"#arrow-a1cfe585ce86400d9f35c04f0e490092-0-18\" class=\"displacy-label\" startOffset=\"50%\" side=\"left\" fill=\"currentColor\" text-anchor=\"middle\">aux</textPath>\n",
       "    </text>\n",
       "    <path class=\"displacy-arrowhead\" d=\"M3395,441.5 L3387,429.5 3403,429.5\" fill=\"currentColor\"/>\n",
       "</g>\n",
       "\n",
       "<g class=\"displacy-arrow\">\n",
       "    <path class=\"displacy-arc\" id=\"arrow-a1cfe585ce86400d9f35c04f0e490092-0-19\" stroke-width=\"2px\" d=\"M1645,439.5 C1645,2.0 3550.0,2.0 3550.0,439.5\" fill=\"none\" stroke=\"currentColor\"/>\n",
       "    <text dy=\"1.25em\" style=\"font-size: 0.8em; letter-spacing: 1px\">\n",
       "        <textPath xlink:href=\"#arrow-a1cfe585ce86400d9f35c04f0e490092-0-19\" class=\"displacy-label\" startOffset=\"50%\" side=\"left\" fill=\"currentColor\" text-anchor=\"middle\">advcl</textPath>\n",
       "    </text>\n",
       "    <path class=\"displacy-arrowhead\" d=\"M3550.0,441.5 L3558.0,429.5 3542.0,429.5\" fill=\"currentColor\"/>\n",
       "</g>\n",
       "\n",
       "<g class=\"displacy-arrow\">\n",
       "    <path class=\"displacy-arc\" id=\"arrow-a1cfe585ce86400d9f35c04f0e490092-0-20\" stroke-width=\"2px\" d=\"M3570,439.5 C3570,352.0 3705.0,352.0 3705.0,439.5\" fill=\"none\" stroke=\"currentColor\"/>\n",
       "    <text dy=\"1.25em\" style=\"font-size: 0.8em; letter-spacing: 1px\">\n",
       "        <textPath xlink:href=\"#arrow-a1cfe585ce86400d9f35c04f0e490092-0-20\" class=\"displacy-label\" startOffset=\"50%\" side=\"left\" fill=\"currentColor\" text-anchor=\"middle\">dobj</textPath>\n",
       "    </text>\n",
       "    <path class=\"displacy-arrowhead\" d=\"M3705.0,441.5 L3713.0,429.5 3697.0,429.5\" fill=\"currentColor\"/>\n",
       "</g>\n",
       "\n",
       "<g class=\"displacy-arrow\">\n",
       "    <path class=\"displacy-arc\" id=\"arrow-a1cfe585ce86400d9f35c04f0e490092-0-21\" stroke-width=\"2px\" d=\"M3570,439.5 C3570,264.5 3885.0,264.5 3885.0,439.5\" fill=\"none\" stroke=\"currentColor\"/>\n",
       "    <text dy=\"1.25em\" style=\"font-size: 0.8em; letter-spacing: 1px\">\n",
       "        <textPath xlink:href=\"#arrow-a1cfe585ce86400d9f35c04f0e490092-0-21\" class=\"displacy-label\" startOffset=\"50%\" side=\"left\" fill=\"currentColor\" text-anchor=\"middle\">prep</textPath>\n",
       "    </text>\n",
       "    <path class=\"displacy-arrowhead\" d=\"M3885.0,441.5 L3893.0,429.5 3877.0,429.5\" fill=\"currentColor\"/>\n",
       "</g>\n",
       "\n",
       "<g class=\"displacy-arrow\">\n",
       "    <path class=\"displacy-arc\" id=\"arrow-a1cfe585ce86400d9f35c04f0e490092-0-22\" stroke-width=\"2px\" d=\"M3920,439.5 C3920,352.0 4055.0,352.0 4055.0,439.5\" fill=\"none\" stroke=\"currentColor\"/>\n",
       "    <text dy=\"1.25em\" style=\"font-size: 0.8em; letter-spacing: 1px\">\n",
       "        <textPath xlink:href=\"#arrow-a1cfe585ce86400d9f35c04f0e490092-0-22\" class=\"displacy-label\" startOffset=\"50%\" side=\"left\" fill=\"currentColor\" text-anchor=\"middle\">pobj</textPath>\n",
       "    </text>\n",
       "    <path class=\"displacy-arrowhead\" d=\"M4055.0,441.5 L4063.0,429.5 4047.0,429.5\" fill=\"currentColor\"/>\n",
       "</g>\n",
       "\n",
       "<g class=\"displacy-arrow\">\n",
       "    <path class=\"displacy-arc\" id=\"arrow-a1cfe585ce86400d9f35c04f0e490092-0-23\" stroke-width=\"2px\" d=\"M4095,439.5 C4095,352.0 4230.0,352.0 4230.0,439.5\" fill=\"none\" stroke=\"currentColor\"/>\n",
       "    <text dy=\"1.25em\" style=\"font-size: 0.8em; letter-spacing: 1px\">\n",
       "        <textPath xlink:href=\"#arrow-a1cfe585ce86400d9f35c04f0e490092-0-23\" class=\"displacy-label\" startOffset=\"50%\" side=\"left\" fill=\"currentColor\" text-anchor=\"middle\">cc</textPath>\n",
       "    </text>\n",
       "    <path class=\"displacy-arrowhead\" d=\"M4230.0,441.5 L4238.0,429.5 4222.0,429.5\" fill=\"currentColor\"/>\n",
       "</g>\n",
       "\n",
       "<g class=\"displacy-arrow\">\n",
       "    <path class=\"displacy-arc\" id=\"arrow-a1cfe585ce86400d9f35c04f0e490092-0-24\" stroke-width=\"2px\" d=\"M4445,439.5 C4445,352.0 4580.0,352.0 4580.0,439.5\" fill=\"none\" stroke=\"currentColor\"/>\n",
       "    <text dy=\"1.25em\" style=\"font-size: 0.8em; letter-spacing: 1px\">\n",
       "        <textPath xlink:href=\"#arrow-a1cfe585ce86400d9f35c04f0e490092-0-24\" class=\"displacy-label\" startOffset=\"50%\" side=\"left\" fill=\"currentColor\" text-anchor=\"middle\">compound</textPath>\n",
       "    </text>\n",
       "    <path class=\"displacy-arrowhead\" d=\"M4445,441.5 L4437,429.5 4453,429.5\" fill=\"currentColor\"/>\n",
       "</g>\n",
       "\n",
       "<g class=\"displacy-arrow\">\n",
       "    <path class=\"displacy-arc\" id=\"arrow-a1cfe585ce86400d9f35c04f0e490092-0-25\" stroke-width=\"2px\" d=\"M4095,439.5 C4095,264.5 4585.0,264.5 4585.0,439.5\" fill=\"none\" stroke=\"currentColor\"/>\n",
       "    <text dy=\"1.25em\" style=\"font-size: 0.8em; letter-spacing: 1px\">\n",
       "        <textPath xlink:href=\"#arrow-a1cfe585ce86400d9f35c04f0e490092-0-25\" class=\"displacy-label\" startOffset=\"50%\" side=\"left\" fill=\"currentColor\" text-anchor=\"middle\">conj</textPath>\n",
       "    </text>\n",
       "    <path class=\"displacy-arrowhead\" d=\"M4585.0,441.5 L4593.0,429.5 4577.0,429.5\" fill=\"currentColor\"/>\n",
       "</g>\n",
       "</svg></span>"
      ],
      "text/plain": [
       "<IPython.core.display.HTML object>"
      ]
     },
     "metadata": {},
     "output_type": "display_data"
    }
   ],
   "source": [
    "from spacy import displacy\n",
    "displacy.render(docs[0], style=\"dep\", jupyter=True)"
   ]
  },
  {
   "cell_type": "markdown",
   "id": "5ab688f0",
   "metadata": {},
   "source": [
    "## BONUS: searching text by grammatical dependancy \n",
    "See this tutorial for more info: https://applied-language-technology.mooc.fi/html/notebooks/part_iii/03_pattern_matching.html"
   ]
  },
  {
   "cell_type": "code",
   "execution_count": null,
   "id": "4ccdec1f",
   "metadata": {},
   "outputs": [],
   "source": [
    "# first, join the docs into one string to process with matcher\n",
    "# then run nlp() again\n",
    "\n",
    "abstracts_string = ' '.join(abstracts)\n",
    "doc = nlp(abstracts_string)"
   ]
  },
  {
   "cell_type": "code",
   "execution_count": null,
   "id": "7803611b",
   "metadata": {},
   "outputs": [],
   "source": [
    "doc[:50]"
   ]
  },
  {
   "cell_type": "code",
   "execution_count": null,
   "id": "f4531901",
   "metadata": {},
   "outputs": [],
   "source": [
    "from spacy.matcher import Matcher\n",
    "\n",
    "# Create a Matcher and provide model vocabulary; assign result under the variable 'matcher'\n",
    "matcher = Matcher(nlp.vocab)\n",
    "\n",
    "# Call the variable to examine the object\n",
    "matcher"
   ]
  },
  {
   "cell_type": "code",
   "execution_count": null,
   "id": "ef71c03b",
   "metadata": {},
   "outputs": [],
   "source": [
    "# Define a list with nested dictionaries that contains the pattern to be matched\n",
    "pronoun_verb = [{'POS': 'PRON'}, {'POS': 'VERB'}]"
   ]
  },
  {
   "cell_type": "code",
   "execution_count": null,
   "id": "75567e72",
   "metadata": {},
   "outputs": [],
   "source": [
    "# Add the pattern to the matcher under the name 'pronoun+verb'\n",
    "matcher.add(\"pronoun+verb\", patterns=[pronoun_verb])"
   ]
  },
  {
   "cell_type": "code",
   "execution_count": null,
   "id": "502ab54e",
   "metadata": {},
   "outputs": [],
   "source": [
    "# Apply the Matcher to the Doc object under 'doc'; provide the argument\n",
    "# 'as_spans' and set its value to True to get Spans as output\\\n",
    "\n",
    "matches = matcher(doc)\n",
    "\n",
    "# Call the variable to examine the output\n",
    "# result"
   ]
  },
  {
   "cell_type": "code",
   "execution_count": null,
   "id": "2d44bdd7",
   "metadata": {},
   "outputs": [],
   "source": [
    "matches"
   ]
  },
  {
   "cell_type": "code",
   "execution_count": null,
   "id": "eba2b577",
   "metadata": {},
   "outputs": [],
   "source": [
    "for match_id, start, end in matches:\n",
    "    string_id = doc.vocab.strings[match_id]  # Look up string ID\n",
    "    span = doc[start:end]\n",
    "    print(string_id, span.text)"
   ]
  }
 ],
 "metadata": {
  "kernelspec": {
   "display_name": "Python 3 (ipykernel)",
   "language": "python",
   "name": "python3"
  },
  "language_info": {
   "codemirror_mode": {
    "name": "ipython",
    "version": 3
   },
   "file_extension": ".py",
   "mimetype": "text/x-python",
   "name": "python",
   "nbconvert_exporter": "python",
   "pygments_lexer": "ipython3",
   "version": "3.11.0"
  }
 },
 "nbformat": 4,
 "nbformat_minor": 5
}
