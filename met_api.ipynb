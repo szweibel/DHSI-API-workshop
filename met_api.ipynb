{
 "cells": [
  {
   "cell_type": "markdown",
   "id": "259bc4c7",
   "metadata": {},
   "source": [
    "# Example: the MET API\n",
    "This session examines how to use the MET API in practice to gather and explore data. \n",
    "\n",
    "Through the session, we will:\n",
    "- learn the components of an API request\n",
    "- practice with a few handy functions for examining request data\n",
    "    - `type()` and `dir()`\n",
    "- learn to create more requests with that data\n",
    "    - `f-strings`\n",
    "    - requests on requests!\n",
    "- sort through request data using loops and conditionals\n",
    "- transforming our data into a dataframe\n",
    "    - for doing simple data analysis"
   ]
  },
  {
   "cell_type": "code",
   "execution_count": null,
   "id": "b3e6f391",
   "metadata": {},
   "outputs": [],
   "source": [
    "import requests"
   ]
  },
  {
   "cell_type": "code",
   "execution_count": null,
   "id": "3c6083d9",
   "metadata": {},
   "outputs": [],
   "source": [
    "# the structure of our request: base_url, path, query\n",
    "\n",
    "base_url = \"https://collectionapi.metmuseum.org\"\n",
    "path = \"/public/collection/v1/search\"\n",
    "query = \"?q=nude\""
   ]
  },
  {
   "cell_type": "markdown",
   "id": "60bd8de3",
   "metadata": {},
   "source": [
    "## the anatomy of an API request:\n",
    "- the *root* which consists of the base URL. \n",
    "   - https://collectionapi.metmuseum.org/\n",
    "- the *path* which consists of a directory structure (file structure) where the data is held.\n",
    "   - /public/collection/v1/objects\n",
    "   - /public/collection/v1/departments \n",
    "   - /public/collection/v1/search\n",
    "- the *query parameter* or the *endpoint* which is the specific request.\n",
    "   - ?q=SearchTerm\n",
    "   - ?q=cypress\n",
    "   - ?q=van+gogh\n",
    "  \n",
    "\n",
    "To read more about the MET API, see here: https://metmuseum.github.io/"
   ]
  },
  {
   "cell_type": "code",
   "execution_count": null,
   "id": "7a12dfd1",
   "metadata": {},
   "outputs": [],
   "source": [
    "# the request, saved to a variable\n",
    "\n",
    "nudes = requests.get(base_url + path + query)"
   ]
  },
  {
   "cell_type": "markdown",
   "id": "2b24473e",
   "metadata": {},
   "source": [
    "## introspection: two functions: `type()` and `dir()`\n",
    "Using `type()` and `dir()` to better understand our response data. The end goal is to sift through the data to discover interesting things--exploratory analysis. "
   ]
  },
  {
   "cell_type": "code",
   "execution_count": null,
   "id": "bdd07d09",
   "metadata": {},
   "outputs": [],
   "source": [
    "# what type of object do we have?\n",
    "\n",
    "type(nudes)"
   ]
  },
  {
   "cell_type": "code",
   "execution_count": null,
   "id": "130232ad",
   "metadata": {},
   "outputs": [],
   "source": [
    "# what can we do with this object?\n",
    "# spend some time exploring the different methods\n",
    "\n",
    "dir(nudes)"
   ]
  },
  {
   "cell_type": "code",
   "execution_count": null,
   "id": "5a831bf2",
   "metadata": {},
   "outputs": [],
   "source": [
    "nudes.raw"
   ]
  },
  {
   "cell_type": "code",
   "execution_count": null,
   "id": "39571c62",
   "metadata": {},
   "outputs": [],
   "source": [
    "nudes.elapsed"
   ]
  },
  {
   "cell_type": "code",
   "execution_count": null,
   "id": "1b51a767",
   "metadata": {},
   "outputs": [],
   "source": [
    "nudes.ok"
   ]
  },
  {
   "cell_type": "code",
   "execution_count": null,
   "id": "dcbd5c36",
   "metadata": {},
   "outputs": [],
   "source": [
    "# what do these numbers mean?\n",
    "nudes.content"
   ]
  },
  {
   "cell_type": "markdown",
   "id": "48183d1b",
   "metadata": {},
   "source": [
    "## .json() to parse our response object"
   ]
  },
  {
   "cell_type": "code",
   "execution_count": null,
   "id": "8209936b",
   "metadata": {},
   "outputs": [],
   "source": [
    "# why do we need to add parenthesis? \n",
    "parsed = nudes.json()"
   ]
  },
  {
   "cell_type": "code",
   "execution_count": null,
   "id": "f6571d6b",
   "metadata": {},
   "outputs": [],
   "source": [
    "type(parsed)"
   ]
  },
  {
   "cell_type": "markdown",
   "id": "4cb1ae61",
   "metadata": {},
   "source": [
    "what is a `dict`? 2D data. We will look more closely soon."
   ]
  },
  {
   "cell_type": "code",
   "execution_count": null,
   "id": "e173d1b7",
   "metadata": {},
   "outputs": [],
   "source": [
    "dir(parsed)"
   ]
  },
  {
   "cell_type": "code",
   "execution_count": null,
   "id": "00cb3ec7",
   "metadata": {},
   "outputs": [],
   "source": [
    "parsed.keys()"
   ]
  },
  {
   "cell_type": "code",
   "execution_count": null,
   "id": "95ad0ad7",
   "metadata": {},
   "outputs": [],
   "source": [
    "type(parsed['objectIDs'])"
   ]
  },
  {
   "cell_type": "code",
   "execution_count": null,
   "id": "96dba43c",
   "metadata": {},
   "outputs": [],
   "source": [
    "# okay let's check the first one. What do you think it is? Look again at the docs.\n",
    "\n",
    "parsed['objectIDs'][0]"
   ]
  },
  {
   "cell_type": "markdown",
   "id": "c8849027",
   "metadata": {},
   "source": [
    "## passing variables into request object\n",
    "Goal: to create a new request with data from the original request"
   ]
  },
  {
   "cell_type": "code",
   "execution_count": null,
   "id": "6531b43b",
   "metadata": {},
   "outputs": [],
   "source": [
    "# the code to access our first objectID is clunky. Let's save to a variable.\n",
    "\n",
    "first = parsed['objectIDs'][0]"
   ]
  },
  {
   "cell_type": "code",
   "execution_count": null,
   "id": "c249307e",
   "metadata": {},
   "outputs": [],
   "source": [
    "# now we past the URL for \"object\" (rather than search)\n",
    "# and we do it within an f-string, putting the variable \"first\" \n",
    "# into curly brackets at the end\n",
    "\n",
    "url = f\"https://collectionapi.metmuseum.org/public/collection/v1/objects/{first}\""
   ]
  },
  {
   "cell_type": "code",
   "execution_count": null,
   "id": "b2a5254e",
   "metadata": {},
   "outputs": [],
   "source": [
    "# running the request\n",
    "\n",
    "first_object = requests.get(url)"
   ]
  },
  {
   "cell_type": "code",
   "execution_count": null,
   "id": "ede663b2",
   "metadata": {},
   "outputs": [],
   "source": [
    "# checking the resulting object\n",
    "\n",
    "first_object"
   ]
  },
  {
   "cell_type": "code",
   "execution_count": null,
   "id": "25c06fcd",
   "metadata": {},
   "outputs": [],
   "source": [
    "dir(first_object)"
   ]
  },
  {
   "cell_type": "markdown",
   "id": "56b01586",
   "metadata": {},
   "source": [
    "look at the json for the first object"
   ]
  },
  {
   "cell_type": "code",
   "execution_count": null,
   "id": "c53ae78d",
   "metadata": {},
   "outputs": [],
   "source": [
    "# all of the data about this object\n",
    "# look at the URL! \n",
    "\n",
    "first_object.json()"
   ]
  },
  {
   "cell_type": "code",
   "execution_count": null,
   "id": "ca96db3c",
   "metadata": {},
   "outputs": [],
   "source": [
    "# now we can save this first object to its own variable. \n",
    "# will make it easier to do more things to it!\n",
    "\n",
    "first_obj = first_object.json()"
   ]
  },
  {
   "cell_type": "markdown",
   "id": "bdd23e7e",
   "metadata": {},
   "source": [
    "## accessing items from a `dict` by keys"
   ]
  },
  {
   "cell_type": "code",
   "execution_count": null,
   "id": "ae34ecb8",
   "metadata": {},
   "outputs": [],
   "source": [
    "type(first_obj)"
   ]
  },
  {
   "cell_type": "code",
   "execution_count": null,
   "id": "3e47c956",
   "metadata": {},
   "outputs": [],
   "source": [
    "# what is a `dict`? \n",
    "# key:value pairs\n",
    "\n",
    "instructor = {\n",
    "    'name': ['filipa calado', 'patrick smyth', 'stephen zweibel'],\n",
    "    'age': [35, 37, 38],\n",
    "    'degree': ['literature', 'literature', 'library science'],\n",
    "    'job': ['digital scholarship specialist', 'startup', 'digital scholarship librarian']\n",
    "}"
   ]
  },
  {
   "cell_type": "code",
   "execution_count": null,
   "id": "8c05e31f",
   "metadata": {},
   "outputs": [],
   "source": [
    "# see the keys\n",
    "\n",
    "instructor.keys()"
   ]
  },
  {
   "cell_type": "code",
   "execution_count": null,
   "id": "572cbb59",
   "metadata": {},
   "outputs": [],
   "source": [
    "# access items through brackets containing keys\n",
    "\n",
    "instructor['name']"
   ]
  },
  {
   "cell_type": "markdown",
   "id": "60431bf9",
   "metadata": {},
   "source": [
    "### just like pandas"
   ]
  },
  {
   "cell_type": "code",
   "execution_count": null,
   "id": "1d022e06",
   "metadata": {},
   "outputs": [],
   "source": [
    "import pandas as pd\n",
    "df = pd.DataFrame(instructor)"
   ]
  },
  {
   "cell_type": "code",
   "execution_count": null,
   "id": "068c2d62",
   "metadata": {},
   "outputs": [],
   "source": [
    "df"
   ]
  },
  {
   "cell_type": "code",
   "execution_count": null,
   "id": "b1c25435",
   "metadata": {},
   "outputs": [],
   "source": [
    "# let's try with the first object\n",
    "\n",
    "first_obj.keys()"
   ]
  },
  {
   "cell_type": "markdown",
   "id": "57e67751",
   "metadata": {},
   "source": [
    "## individual practice: take a few minutes to inspect the dataset by using different keys"
   ]
  },
  {
   "cell_type": "code",
   "execution_count": null,
   "id": "8ec24154",
   "metadata": {},
   "outputs": [],
   "source": [
    "# no result!\n",
    "\n",
    "first_obj['artistGender']"
   ]
  },
  {
   "cell_type": "code",
   "execution_count": null,
   "id": "c1718911",
   "metadata": {},
   "outputs": [],
   "source": [
    "first_obj['department']"
   ]
  },
  {
   "cell_type": "code",
   "execution_count": null,
   "id": "c142f128",
   "metadata": {},
   "outputs": [],
   "source": [
    "first_obj['culture']"
   ]
  },
  {
   "cell_type": "markdown",
   "id": "6e169a95",
   "metadata": {},
   "source": [
    "## looping through our dataset"
   ]
  },
  {
   "cell_type": "markdown",
   "id": "cf9a0cf8",
   "metadata": {},
   "source": [
    "Now let's go back to the original list, and pull out all the info for the results. "
   ]
  },
  {
   "cell_type": "code",
   "execution_count": null,
   "id": "391f264f",
   "metadata": {},
   "outputs": [],
   "source": [
    "parsed['objectIDs']"
   ]
  },
  {
   "cell_type": "code",
   "execution_count": null,
   "id": "270c4522",
   "metadata": {},
   "outputs": [],
   "source": [
    "ids = parsed['objectIDs']"
   ]
  },
  {
   "cell_type": "code",
   "execution_count": null,
   "id": "bfbc5654",
   "metadata": {},
   "outputs": [],
   "source": [
    "type(ids)"
   ]
  },
  {
   "cell_type": "code",
   "execution_count": null,
   "id": "775d6117",
   "metadata": {},
   "outputs": [],
   "source": [
    "len(ids)"
   ]
  },
  {
   "cell_type": "markdown",
   "id": "af1dba62",
   "metadata": {},
   "source": [
    "## remember loops?"
   ]
  },
  {
   "cell_type": "code",
   "execution_count": null,
   "id": "332952c1",
   "metadata": {},
   "outputs": [],
   "source": [
    "# let's just try with the first ten items\n",
    "\n",
    "for item in ids[:10]:\n",
    "    print(item)"
   ]
  },
  {
   "cell_type": "code",
   "execution_count": null,
   "id": "a4ee6b95",
   "metadata": {},
   "outputs": [],
   "source": [
    "# now let's do the first fifty\n",
    "\n",
    "first_fifty = []\n",
    "for item in ids[:50]:\n",
    "    # passing the objectID variable into the URL\n",
    "    url = f'https://collectionapi.metmuseum.org/public/collection/v1/objects/{item}'\n",
    "    # grabbing our response for that object\n",
    "    response = requests.get(url)\n",
    "    # parsing our response with json\n",
    "    parsed = response.json()\n",
    "    # appending the response to our new list\n",
    "    first_fifty.append(parsed)"
   ]
  },
  {
   "cell_type": "code",
   "execution_count": null,
   "id": "9cff2890",
   "metadata": {},
   "outputs": [],
   "source": [
    "# because we already know the first, let's check the last item\n",
    "\n",
    "first_fifty[-1]"
   ]
  },
  {
   "cell_type": "markdown",
   "id": "3e160870",
   "metadata": {},
   "source": [
    "now guess what type of data we have for `first_fifty`?"
   ]
  },
  {
   "cell_type": "code",
   "execution_count": null,
   "id": "97c74b64",
   "metadata": {},
   "outputs": [],
   "source": [
    "type(first_fifty)"
   ]
  },
  {
   "cell_type": "markdown",
   "id": "0a26cd39",
   "metadata": {},
   "source": [
    "let's look at some of the values"
   ]
  },
  {
   "cell_type": "code",
   "execution_count": null,
   "id": "14c8cf0e",
   "metadata": {},
   "outputs": [],
   "source": [
    "# what does this error mean?\n",
    "\n",
    "for item in first_fifty:\n",
    "    print(item['title'])"
   ]
  },
  {
   "cell_type": "markdown",
   "id": "67e882ef",
   "metadata": {},
   "source": [
    "## looping with conditions"
   ]
  },
  {
   "cell_type": "code",
   "execution_count": null,
   "id": "b2b964e0",
   "metadata": {},
   "outputs": [],
   "source": [
    "for item in first_fifty:\n",
    "    title = item.get('artistDisplayName')\n",
    "    print(title)"
   ]
  },
  {
   "cell_type": "code",
   "execution_count": null,
   "id": "a0b1c426",
   "metadata": {},
   "outputs": [],
   "source": [
    "# combine get() with conditional to get rid of the None's\n",
    "\n",
    "for item in first_fifty:\n",
    "    if item.get('artistDisplayName'):\n",
    "        print(item['artistDisplayName'])"
   ]
  },
  {
   "cell_type": "code",
   "execution_count": null,
   "id": "ec6185c3",
   "metadata": {},
   "outputs": [],
   "source": [
    "for item in first_fifty:\n",
    "    title = item.get('artistGender')\n",
    "    print(title)"
   ]
  },
  {
   "cell_type": "code",
   "execution_count": null,
   "id": "e7d0e7d6",
   "metadata": {},
   "outputs": [],
   "source": [
    "# why do you think we see only female?\n",
    "\n",
    "for item in first_fifty:\n",
    "    if item.get('artistGender'):\n",
    "        print(item['artistGender'])"
   ]
  },
  {
   "cell_type": "code",
   "execution_count": null,
   "id": "bf8ad4f6",
   "metadata": {},
   "outputs": [],
   "source": [
    "# use try statement to pass over any empty sets\n",
    "\n",
    "for i in first_fifty:\n",
    "    try:\n",
    "        print(i['title'])\n",
    "    except KeyError:\n",
    "        continue"
   ]
  },
  {
   "cell_type": "code",
   "execution_count": null,
   "id": "821ca3aa",
   "metadata": {},
   "outputs": [],
   "source": [
    "titles = []\n",
    "for item in first_fifty:\n",
    "    try:\n",
    "        titles.append(item['title'])\n",
    "    except KeyError:\n",
    "        continue"
   ]
  },
  {
   "cell_type": "code",
   "execution_count": null,
   "id": "8eaa1c9d",
   "metadata": {},
   "outputs": [],
   "source": [
    "titles"
   ]
  },
  {
   "cell_type": "markdown",
   "id": "1dab224e",
   "metadata": {},
   "source": [
    "## sorting our data"
   ]
  },
  {
   "cell_type": "code",
   "execution_count": null,
   "id": "dc3944f1",
   "metadata": {},
   "outputs": [],
   "source": [
    "# look again at the first object\n",
    "first_fifty[0]"
   ]
  },
  {
   "cell_type": "code",
   "execution_count": null,
   "id": "79985c9f",
   "metadata": {},
   "outputs": [],
   "source": [
    "# this syntax allows us to see only the positive values\n",
    "\n",
    "for item in first_fifty:\n",
    "    if item.get('artistGender'):\n",
    "        print(item['artistGender'])"
   ]
  },
  {
   "cell_type": "code",
   "execution_count": null,
   "id": "2e6815bc",
   "metadata": {},
   "outputs": [],
   "source": [
    "# but by saving the variable, we can also get none values\n",
    "\n",
    "for item in first_fifty:\n",
    "    gender = item.get('artistGender')\n",
    "    print(gender)"
   ]
  },
  {
   "cell_type": "code",
   "execution_count": null,
   "id": "883c0957",
   "metadata": {},
   "outputs": [],
   "source": [
    "# let's get a bunch of this data into lists\n",
    "\n",
    "titles = []\n",
    "names = []\n",
    "genders = []\n",
    "depts = []\n",
    "countries = []\n",
    "urls = []\n",
    "\n",
    "for item in first_fifty:\n",
    "    title = item.get('artistGender')\n",
    "    titles.append(title)\n",
    "    name = item.get('artistDisplayName')\n",
    "    names.append(name)\n",
    "    gender = item.get('artistGender')\n",
    "    genders.append(gender)\n",
    "    dept = item.get('department')\n",
    "    depts.append(dept)\n",
    "    country = item.get('country')\n",
    "    countries.append(country)\n",
    "    url = item.get('objectURL')\n",
    "    urls.append(url)"
   ]
  },
  {
   "cell_type": "code",
   "execution_count": null,
   "id": "b85594aa",
   "metadata": {},
   "outputs": [],
   "source": [
    "countries[:10]"
   ]
  },
  {
   "cell_type": "code",
   "execution_count": null,
   "id": "201a797a",
   "metadata": {},
   "outputs": [],
   "source": [
    "depts[:10]"
   ]
  },
  {
   "cell_type": "code",
   "execution_count": null,
   "id": "013dbe47",
   "metadata": {},
   "outputs": [],
   "source": [
    "urls[:10]"
   ]
  },
  {
   "cell_type": "markdown",
   "id": "a0f2bd93",
   "metadata": {},
   "source": [
    "## data anlaysis with pandas"
   ]
  },
  {
   "cell_type": "code",
   "execution_count": null,
   "id": "7a92d761",
   "metadata": {},
   "outputs": [],
   "source": [
    "import pandas as pd"
   ]
  },
  {
   "cell_type": "code",
   "execution_count": null,
   "id": "c49f8458",
   "metadata": {},
   "outputs": [],
   "source": [
    "df = pd.DataFrame({\n",
    "    'title': titles,\n",
    "    'name': names,\n",
    "    'gender': genders,\n",
    "    'department': depts,\n",
    "    'country': countries,\n",
    "    'link': urls\n",
    "})"
   ]
  },
  {
   "cell_type": "code",
   "execution_count": null,
   "id": "9c426850",
   "metadata": {},
   "outputs": [],
   "source": [
    "df"
   ]
  },
  {
   "cell_type": "code",
   "execution_count": null,
   "id": "73a4386d",
   "metadata": {},
   "outputs": [],
   "source": [
    "df.value_counts('department')"
   ]
  },
  {
   "cell_type": "code",
   "execution_count": null,
   "id": "7bbf2a90",
   "metadata": {},
   "outputs": [],
   "source": [
    "df.department.value_counts()[:20].plot(kind = 'barh')"
   ]
  },
  {
   "cell_type": "code",
   "execution_count": null,
   "id": "68c6b5bd",
   "metadata": {},
   "outputs": [],
   "source": [
    "df.department.value_counts()[:10].plot(kind = 'pie')"
   ]
  },
  {
   "cell_type": "code",
   "execution_count": null,
   "id": "faa9e026",
   "metadata": {},
   "outputs": [],
   "source": []
  }
 ],
 "metadata": {
  "kernelspec": {
   "display_name": "Python 3 (ipykernel)",
   "language": "python",
   "name": "python3"
  },
  "language_info": {
   "codemirror_mode": {
    "name": "ipython",
    "version": 3
   },
   "file_extension": ".py",
   "mimetype": "text/x-python",
   "name": "python",
   "nbconvert_exporter": "python",
   "pygments_lexer": "ipython3",
   "version": "3.11.0"
  }
 },
 "nbformat": 4,
 "nbformat_minor": 5
}
